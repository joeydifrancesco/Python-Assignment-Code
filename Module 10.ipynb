{
 "cells": [
  {
   "cell_type": "markdown",
   "metadata": {},
   "source": [
    "### Goal:\n",
    "- Use the Food Data Central API to pull the nutritional content of 10 foods\n",
    "\n",
    "### Skills Used:\n",
    "- Web Scraping/APIs\n",
    "- Data Wrangling\n",
    "- Data Visualization\n",
    "- Data structures (JSON)\n",
    "- Data frames\n",
    "- Summarizing data"
   ]
  },
  {
   "cell_type": "code",
   "execution_count": null,
   "metadata": {},
   "outputs": [],
   "source": [
    "# import packages\n",
    "import pandas as pd\n",
    "import numpy as np\n",
    "import requests\n",
    "from pandas.io.json import json_normalize #special package in pandas\n",
    "import json\n",
    "import matplotlib.pyplot as plt\n",
    "%matplotlib inline\n"
   ]
  },
  {
   "cell_type": "code",
   "execution_count": null,
   "metadata": {},
   "outputs": [],
   "source": [
    "# set API key\n",
    "apiKey = \"\"\n",
    "\n",
    "# set  parameter\n",
    "params = {'api_key': apiKey}"
   ]
  },
  {
   "cell_type": "code",
   "execution_count": null,
   "metadata": {},
   "outputs": [],
   "source": [
    "# sample call so we can see the structure of the json file\n",
    "response = requests.post(\n",
    "       r'https://api.nal.usda.gov/fdc/v1/search',\n",
    "       params=params,\n",
    "       json={'generalSearchInput': \"apple\"}\n",
    "   )\n",
    "    \n",
    "# save to JSON\n",
    "item = response.json()"
   ]
  },
  {
   "cell_type": "code",
   "execution_count": null,
   "metadata": {},
   "outputs": [],
   "source": [
    "print(item)"
   ]
  },
  {
   "cell_type": "code",
   "execution_count": null,
   "metadata": {},
   "outputs": [],
   "source": [
    "# create list of foods we want to pass through to our API call\n",
    "food_list=[\"pizza\",\"fried chicken\", \"apple\", \"banana\", \"bread\", \"smoothie\", \"fries\", \"fish\", \"shrimp\", \"crab\"]"
   ]
  },
  {
   "cell_type": "code",
   "execution_count": null,
   "metadata": {},
   "outputs": [],
   "source": [
    "# counter that allows us to see which food word is being processed in the loop\n",
    "counter = 0\n",
    "\n",
    "# for each food, pull nutritional value\n",
    "\n",
    "# use for loop to create api call\n",
    "for food in food_list:\n",
    "\n",
    "    # increment counter for sequence of foods\n",
    "    counter=counter+1\n",
    "    \n",
    "    # send API request - this should look familiar! From Module 8 - Web Scraping/APIs\n",
    "    response = requests.post(\n",
    "        r'https://api.nal.usda.gov/fdc/v1/search',\n",
    "        params=params,\n",
    "        json={'generalSearchInput': food}\n",
    "    )\n",
    "    \n",
    "    # save to JSON\n",
    "    item = response.json()\n",
    "    \n",
    "    # get total matches (there can be multiple hits for one food keyword, so we need to take the length of the match object to see how many matches we got)\n",
    "    l = [i for i in range(len(item['foods']))]\n",
    "    \n",
    "    # for each match\n",
    "    for i in l:\n",
    "        # create df of food nutrients across all matches - this should look familiar! From Module 5 - Data Structures\n",
    "        if i == 0: # for the first match, initialize the dataframe\n",
    "            rdf = pd.json_normalize(item['foods'][i]['foodNutrients']) # convert json to data frame\n",
    "        else: # for subsequent matches, create a dataframe (with a different name to be concatenated)\n",
    "            df = pd.json_normalize(item['foods'][i]['foodNutrients'])\n",
    "            rdf = pd.concat([rdf,df]) # concatenate dataframes - this should look familiar! From Module 4 - Data Wrangling \n",
    "\n",
    "    # Now we have a dataframe with all the matches for a food word\n",
    "    \n",
    "    # recode variable values to simplify names\n",
    "    rdf['nutrientName'].replace('Energy','Energy',inplace=True)\n",
    "    rdf['nutrientName'].replace('Carbohydrate, by difference','Carbs',inplace=True)\n",
    "    rdf['nutrientName'].replace('Protein','Protein',inplace=True)\n",
    "    rdf['nutrientName'].replace('Fiber, total dietary','Fiber',inplace=True)\n",
    "    rdf['nutrientName'].replace('Total lipid (fat)','Fat',inplace=True)\n",
    "    rdf['nutrientName'].replace('Sodium, Na','Sodium',inplace=True)\n",
    "    rdf['nutrientName'].replace('Fatty acids, total saturated','Sat_Fatty_Acids',inplace=True)\n",
    "    rdf['nutrientName'].replace('Calcium, Ca','Calcium',inplace=True)\n",
    "    rdf['nutrientName'].replace('Iron, Fe','Iron',inplace=True)\n",
    "    rdf['nutrientName'].replace('Sugars, total including NLEA','Sugar',inplace=True)\n",
    "    rdf['nutrientName'].replace('Cholesterol','Chol',inplace=True)\n",
    "    rdf['nutrientName'].replace('Fatty acids, total trans','Trans_Fatty_Acids',inplace=True)\n",
    "    rdf['nutrientName'].replace('Vitamin C, total ascorbic acid','VitaminC',inplace=True)\n",
    "    rdf['nutrientName'].replace('Vitamin A, IU','VitaminA',inplace=True)\n",
    "    rdf['nutrientName'].replace('Potassium, K','Potassium',inplace=True)\n",
    "    rdf['nutrientName'].replace('Fatty acids, total polyunsaturated','Unsat_Fatty_Acids',inplace=True)   \n",
    "  \n",
    "    # Since we have multiple matches for a food word, lets aggregate to one row per food match/nutrient by finding the average \n",
    "    # nutrient value across all matches\n",
    "    # find average nutrient\n",
    "    agg_food = rdf[['nutrientName','value']].groupby(['nutrientName']).agg('mean')\n",
    "    \n",
    "    # reset index\n",
    "    agg_food = agg_food.reset_index()\n",
    "    \n",
    "    # rename columns\n",
    "    agg_food.columns = [\"nutrientName\",\"Value\"]    \n",
    "    \n",
    "    # subset data to only include the nutrients we want\n",
    "    agg_food = agg_food[agg_food[\"nutrientName\"].isin(['Energy','Carbs','Protein','Fiber','Fat'])]\n",
    "\n",
    "     \n",
    "    # set food name into a variable so we know what values each food is associated with\n",
    "    agg_food[\"Food\"] = food \n",
    "        \n",
    "    # transpose the data so the nutrient values are their own columns\n",
    "    new=agg_food.pivot_table(index=[\"Food\"], columns=['nutrientName'], values='Value')\n",
    "    \n",
    "    # reset the index\n",
    "    new.reset_index(inplace=True)\n",
    "    \n",
    "    # append food match to a dataframe with all foods\n",
    "    if counter ==1: # initialize the df\n",
    "        all_foods=new\n",
    "    else:\n",
    "        all_foods=pd.concat([all_foods,new]) "
   ]
  },
  {
   "cell_type": "code",
   "execution_count": null,
   "metadata": {},
   "outputs": [],
   "source": [
    "# print dataframe\n",
    "all_foods"
   ]
  },
  {
   "cell_type": "code",
   "execution_count": null,
   "metadata": {},
   "outputs": [],
   "source": [
    "# RQ1: Is there an association between the amount of carbs and fiber in a food?\n",
    "# Create a scatterplot\n",
    "all_foods.plot.scatter(x='Carbs',y='Fiber')\n",
    "\n",
    "# Add axis labels\n",
    "plt.xlabel(\"Carbohydrates\")\n",
    "plt.ylabel(\"Fiber\")\n",
    "\n",
    "# add title\n",
    "plt.title(\"RQ1: Is there an association between the amount of carbs and fiber in a food?\")\n"
   ]
  },
  {
   "cell_type": "code",
   "execution_count": null,
   "metadata": {},
   "outputs": [],
   "source": [
    "# RQ2: Which food has the most carbs?\n",
    "# Create a scatterplot\n",
    "all_foods.plot.bar(x='Food',y='Carbs')\n",
    "\n",
    "# Add axis labels\n",
    "plt.xlabel(\"Food\")\n",
    "plt.ylabel(\"Carbs\")\n",
    "\n",
    "# add title\n",
    "plt.title(\"RQ2: Which food has the most carbs?\")"
   ]
  },
  {
   "cell_type": "code",
   "execution_count": null,
   "metadata": {},
   "outputs": [],
   "source": [
    "# RQ3: Which food has the most fat?\n",
    "# Create a scatterplot\n",
    "all_foods.plot.bar(x='Food',y='Fat')\n",
    "\n",
    "# Add axis labels\n",
    "plt.xlabel(\"Food\")\n",
    "plt.ylabel(\"Carbs\")\n",
    "\n",
    "# add title\n",
    "plt.title(\"RQ3: Which food has the most fat?\")\n"
   ]
  },
  {
   "cell_type": "code",
   "execution_count": null,
   "metadata": {},
   "outputs": [],
   "source": []
  }
 ],
 "metadata": {
  "kernelspec": {
   "display_name": "Python 3",
   "language": "python",
   "name": "python3"
  },
  "language_info": {
   "codemirror_mode": {
    "name": "ipython",
    "version": 3
   },
   "file_extension": ".py",
   "mimetype": "text/x-python",
   "name": "python",
   "nbconvert_exporter": "python",
   "pygments_lexer": "ipython3",
   "version": "3.8.8"
  },
  "varInspector": {
   "cols": {
    "lenName": 16,
    "lenType": 16,
    "lenVar": 40
   },
   "kernels_config": {
    "python": {
     "delete_cmd_postfix": "",
     "delete_cmd_prefix": "del ",
     "library": "var_list.py",
     "varRefreshCmd": "print(var_dic_list())"
    },
    "r": {
     "delete_cmd_postfix": ") ",
     "delete_cmd_prefix": "rm(",
     "library": "var_list.r",
     "varRefreshCmd": "cat(var_dic_list()) "
    }
   },
   "position": {
    "height": "414px",
    "left": "533px",
    "right": "20px",
    "top": "110px",
    "width": "795px"
   },
   "types_to_exclude": [
    "module",
    "function",
    "builtin_function_or_method",
    "instance",
    "_Feature"
   ],
   "window_display": false
  }
 },
 "nbformat": 4,
 "nbformat_minor": 4
}
