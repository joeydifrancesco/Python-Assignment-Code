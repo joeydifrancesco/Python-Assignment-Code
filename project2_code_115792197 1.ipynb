{
 "cells": [
  {
   "cell_type": "code",
   "execution_count": null,
   "id": "ee4cc8de",
   "metadata": {},
   "outputs": [],
   "source": [
    "import numpy as np\n",
    "import pandas as pd\n",
    "import matplotlib.pyplot as plt\n",
    "import os"
   ]
  },
  {
   "cell_type": "code",
   "execution_count": null,
   "id": "544b4961",
   "metadata": {},
   "outputs": [],
   "source": [
    "path = os.path.join('c:' + os.sep, 'Users', 'jdifr', 'Downloads', 'dataset_JosephDifrancesco.csv')\n",
    "col_list = [\"song\", \"artist\", \"year\", \"lyrics\"]\n",
    "ProjectTwo = pd.read_csv(path)\n",
    "ProjectTwo.info()"
   ]
  },
  {
   "cell_type": "code",
   "execution_count": null,
   "id": "169bd65a",
   "metadata": {},
   "outputs": [],
   "source": [
    "ProjectTwo"
   ]
  },
  {
   "cell_type": "code",
   "execution_count": null,
   "id": "cdfb0727",
   "metadata": {
    "scrolled": true
   },
   "outputs": [],
   "source": [
    "#creating a list for the lyrics\n",
    "lyrics_all = list(ProjectTwo.lyrics)\n",
    "print(lyrics_all)"
   ]
  },
  {
   "cell_type": "code",
   "execution_count": null,
   "id": "08efe9d2",
   "metadata": {},
   "outputs": [],
   "source": [
    "import nltk\n",
    "nltk.download('punkt')\n",
    "nltk.download('wordnet')"
   ]
  },
  {
   "cell_type": "code",
   "execution_count": null,
   "id": "b3f395cc",
   "metadata": {
    "scrolled": true
   },
   "outputs": [],
   "source": [
    "lyrics_all = ProjectTwo[\"lyrics\"]\n",
    "\n",
    "#creating a list for the years\n",
    "years_all = list(ProjectTwo.year)\n",
    "years_all"
   ]
  },
  {
   "cell_type": "code",
   "execution_count": null,
   "id": "bc420bce",
   "metadata": {},
   "outputs": [],
   "source": [
    "#retrieving the first item in the lyrics list\n",
    "str1 = lyrics_all[0]\n",
    "str1"
   ]
  },
  {
   "cell_type": "code",
   "execution_count": null,
   "id": "834f6070",
   "metadata": {},
   "outputs": [],
   "source": [
    "#creating a for loop to iterate over each songs lyrics and perform stemming and lemmatizing\n",
    "word_count = []\n",
    "for lyric in lyrics_all:\n",
    "    nltk_tokenized = nltk.word_tokenize(lyric)\n",
    "    porter = nltk.PorterStemmer()\n",
    "    porter_results = [porter.stem(t) for t in nltk_tokenized]\n",
    "    lemmatizer = nltk.stem.WordNetLemmatizer()\n",
    "    lemmatizer_results = [lemmatizer.lemmatize(t) for t in nltk_tokenized]\n",
    "    word_count.append(len(lemmatizer_results))\n",
    "\n",
    "#prints the wordcount for every song in the lyrics list\n",
    "for count in word_count:\n",
    "    print(count)"
   ]
  },
  {
   "cell_type": "code",
   "execution_count": null,
   "id": "b93d656d",
   "metadata": {},
   "outputs": [],
   "source": [
    "#creating a new dataframe in order to normalize the word count and fit to a linear model\n",
    "year_lyrics = pd.DataFrame({'years': ProjectTwo['year'],\n",
    "                            'word_count': word_count})\n",
    "print(year_lyrics)"
   ]
  },
  {
   "cell_type": "code",
   "execution_count": null,
   "id": "e34e2fdd",
   "metadata": {},
   "outputs": [],
   "source": [
    "#creating a relplot with x as years and y as the un-normalized word count\n",
    "import seaborn as sns\n",
    "sns.relplot(data=year_lyrics, x=\"years\", y=\"word_count\", kind=\"line\", aspect=1.5)"
   ]
  },
  {
   "cell_type": "code",
   "execution_count": null,
   "id": "ee4a385a",
   "metadata": {},
   "outputs": [],
   "source": [
    "#performing the default min-max scaling for word count\n",
    "dfTest=year_lyrics\n",
    "dfTest[['year', 'count']] = scaler.fit_transform(year_lyrics[['years', 'word_count']])\n",
    "print(dfTest)"
   ]
  },
  {
   "cell_type": "code",
   "execution_count": null,
   "id": "0806c8dd",
   "metadata": {},
   "outputs": [],
   "source": [
    "#plotting the new variables with y being normalized\n",
    "scaled_plot = sns.relplot(data=dfTest, x=\"years\", y=\"count\", kind=\"line\", aspect=1.5)\n",
    "scaled_plot"
   ]
  },
  {
   "cell_type": "code",
   "execution_count": null,
   "id": "a5300ba3",
   "metadata": {},
   "outputs": [],
   "source": [
    "plt.savefig(\"project2_fig1_115792197.pdf\")"
   ]
  },
  {
   "cell_type": "code",
   "execution_count": null,
   "id": "b3b59084",
   "metadata": {},
   "outputs": [],
   "source": [
    "from sklearn.preprocessing import MinMaxScaler"
   ]
  },
  {
   "cell_type": "code",
   "execution_count": null,
   "id": "94eb5ee8",
   "metadata": {},
   "outputs": [],
   "source": [
    "from sklearn import linear_model"
   ]
  },
  {
   "cell_type": "code",
   "execution_count": null,
   "id": "95fb6f33",
   "metadata": {},
   "outputs": [],
   "source": [
    "#reshaping both arrays from 1D to 2D in order to fit a linear model\n",
    "x = dfTest['years'].values.reshape(-1,1)\n",
    "y = dfTest['count'].values.reshape(-1,1)"
   ]
  },
  {
   "cell_type": "code",
   "execution_count": null,
   "id": "651e59a5",
   "metadata": {},
   "outputs": [],
   "source": [
    "plt.scatter(x,y)"
   ]
  },
  {
   "cell_type": "code",
   "execution_count": null,
   "id": "f104af09",
   "metadata": {},
   "outputs": [],
   "source": [
    "#performing simple linear regression to the normalized model\n",
    "model2 = linear_model.LinearRegression()\n",
    "model2.fit(x,y)"
   ]
  },
  {
   "cell_type": "code",
   "execution_count": null,
   "id": "c8927068",
   "metadata": {},
   "outputs": [],
   "source": [
    "#creating a predictor line\n",
    "y_preds = model2.predict(x)"
   ]
  },
  {
   "cell_type": "code",
   "execution_count": null,
   "id": "2f535dd7",
   "metadata": {},
   "outputs": [],
   "source": [
    "#plotting our regression line on a regular plot with our normalized values\n",
    "plt.plot(x,y)\n",
    "plt.tight_layout()\n",
    "plt.plot(x,y_pred, c=\"red\")\n",
    "plt.show()"
   ]
  },
  {
   "cell_type": "code",
   "execution_count": null,
   "id": "055b2352",
   "metadata": {},
   "outputs": [],
   "source": [
    "#finding the coefficient for year\n",
    "model2.coef_"
   ]
  },
  {
   "cell_type": "code",
   "execution_count": null,
   "id": "9ebb1c4b",
   "metadata": {},
   "outputs": [],
   "source": [
    "#creating a for loop to iterate over all song lyrics and only keeping track of the unique words because a set only allows uniques\n",
    "unique_count = []\n",
    "for lyric in lyrics_all:\n",
    "    nltk_tokenized = nltk.word_tokenize(lyric)\n",
    "    porter = nltk.PorterStemmer()\n",
    "    porter_results = [porter.stem(t) for t in nltk_tokenized]\n",
    "    lemmatizer = nltk.stem.WordNetLemmatizer()\n",
    "    lemmatizer_results = [lemmatizer.lemmatize(t) for t in nltk_tokenized]\n",
    "    unique_count.append(len(set(lemmatizer_results)))\n",
    "    \n",
    "for count in unique_count:\n",
    "    print(count)"
   ]
  },
  {
   "cell_type": "code",
   "execution_count": null,
   "id": "34dd9da2",
   "metadata": {},
   "outputs": [],
   "source": [
    "#creating the new dataframe similar to before but for our new unique values\n",
    "year_lyrics_unique = pd.DataFrame({'years': ProjectTwo['year'],\n",
    "                            'word_count': unique_count})\n",
    "print(year_lyrics_unique)"
   ]
  },
  {
   "cell_type": "code",
   "execution_count": null,
   "id": "21e9be38",
   "metadata": {},
   "outputs": [],
   "source": [
    "#min-max scaling the new unique values\n",
    "dfTest2=year_lyrics_unique\n",
    "dfTest2[['year', 'count']] = scaler.fit_transform(year_lyrics_unique[['years', 'word_count']])\n",
    "print(dfTest2)"
   ]
  },
  {
   "cell_type": "code",
   "execution_count": null,
   "id": "a5bdf300",
   "metadata": {},
   "outputs": [],
   "source": [
    "#using relplot to plot the new unique normalized values\n",
    "scaled_plot_unique = sns.relplot(data=dfTest2, x=\"years\", y=\"count\", kind=\"line\", aspect=1.5)\n",
    "scaled_plot_unique"
   ]
  },
  {
   "cell_type": "code",
   "execution_count": null,
   "id": "0bf7361b",
   "metadata": {},
   "outputs": [],
   "source": [
    "#reshaping both arrays from 1D to 2D in order to fit a linear model\n",
    "x_unique = dfTest2['years'].values.reshape(-1,1)\n",
    "y_unique = dfTest2['count'].values.reshape(-1,1)\n",
    "\n",
    "model2_unique = linear_model.LinearRegression()\n",
    "model2_unique.fit(x,y)"
   ]
  },
  {
   "cell_type": "code",
   "execution_count": null,
   "id": "0885db3a",
   "metadata": {},
   "outputs": [],
   "source": [
    "#creating the new prediction line for the unique values \n",
    "y_preds_unique = model2_unique.predict(x_unique)"
   ]
  },
  {
   "cell_type": "code",
   "execution_count": null,
   "id": "1b081799",
   "metadata": {},
   "outputs": [],
   "source": [
    "#plotting our regression line on a regular plot with our normalized unique values\n",
    "plt.plot(x_unique,y_unique)\n",
    "plt.tight_layout()\n",
    "plt.plot(x_unique,y_preds_unique, c=\"red\")\n",
    "plt.show()"
   ]
  },
  {
   "cell_type": "code",
   "execution_count": null,
   "id": "a90fd32b",
   "metadata": {},
   "outputs": [],
   "source": [
    "plt.savefig(\"project2_fig2_115792197.pdf\")"
   ]
  },
  {
   "cell_type": "code",
   "execution_count": null,
   "id": "55682bd2",
   "metadata": {},
   "outputs": [],
   "source": []
  }
 ],
 "metadata": {
  "kernelspec": {
   "display_name": "Python 3",
   "language": "python",
   "name": "python3"
  },
  "language_info": {
   "codemirror_mode": {
    "name": "ipython",
    "version": 3
   },
   "file_extension": ".py",
   "mimetype": "text/x-python",
   "name": "python",
   "nbconvert_exporter": "python",
   "pygments_lexer": "ipython3",
   "version": "3.8.8"
  }
 },
 "nbformat": 4,
 "nbformat_minor": 5
}
